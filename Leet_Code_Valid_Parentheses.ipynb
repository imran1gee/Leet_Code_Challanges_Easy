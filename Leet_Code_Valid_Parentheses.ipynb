{
 "cells": [
  {
   "cell_type": "code",
   "execution_count": 1,
   "id": "edbd5229",
   "metadata": {},
   "outputs": [],
   "source": [
    "def Fun(x):\n",
    "# We define a dictionary that only accepts closing brackets\n",
    "    dict_a = dict_a = {')':'(','}':'{',']':'['}\n",
    "# We define an empty list for opening brackets\n",
    "    stack = []\n",
    "# This for loop goes over all of the brckets\n",
    "    for i in x:\n",
    "# This if statement checks if a closing bracket is found in for loop\n",
    "        if i in dict_a:\n",
    "# This if statement checks if the opening brackets are not present in stack\n",
    "            if not stack:\n",
    "                return False\n",
    "# This complimentary if statement checks if the closing bracket is the same as the stack \n",
    "# of opening bracket\n",
    "            elif stack.pop() != dict_a[i]:\n",
    "                return False\n",
    "        else:\n",
    "# This complimentary if statement stores the opening brackets to list stack\n",
    "            stack.append(i)\n",
    "# At the end of for loop our stack must be again empty otherwise we must get false\n",
    "    return not stack "
   ]
  },
  {
   "cell_type": "code",
   "execution_count": 4,
   "id": "f4dfdbb8",
   "metadata": {},
   "outputs": [
    {
     "data": {
      "text/plain": [
       "False"
      ]
     },
     "execution_count": 4,
     "metadata": {},
     "output_type": "execute_result"
    }
   ],
   "source": [
    "s ='(({['\n",
    "Fun(s)"
   ]
  },
  {
   "cell_type": "code",
   "execution_count": 3,
   "id": "b7a9f149",
   "metadata": {},
   "outputs": [
    {
     "name": "stdout",
     "output_type": "stream",
     "text": [
      "True\n"
     ]
    }
   ],
   "source": [
    "s = \"({})\"\n",
    "dict_a = {')':'(','}':'{',']':'['}\n",
    "stack = []\n",
    "for i in s:\n",
    "    if i in dict_a:\n",
    "        if not stack:\n",
    "            print('False')\n",
    "        elif stack.pop()!=dict_a[i]:\n",
    "            print('False')\n",
    "    else:\n",
    "        stack.append(i)\n",
    "if not stack:\n",
    "    print('True')\n",
    "else:\n",
    "    print('False')"
   ]
  }
 ],
 "metadata": {
  "kernelspec": {
   "display_name": "Python 3 (ipykernel)",
   "language": "python",
   "name": "python3"
  },
  "language_info": {
   "codemirror_mode": {
    "name": "ipython",
    "version": 3
   },
   "file_extension": ".py",
   "mimetype": "text/x-python",
   "name": "python",
   "nbconvert_exporter": "python",
   "pygments_lexer": "ipython3",
   "version": "3.9.12"
  }
 },
 "nbformat": 4,
 "nbformat_minor": 5
}
