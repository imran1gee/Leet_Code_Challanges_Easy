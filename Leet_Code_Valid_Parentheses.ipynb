{
 "cells": [
  {
   "cell_type": "code",
   "execution_count": 1,
   "id": "33f9350f",
   "metadata": {},
   "outputs": [],
   "source": [
    "def Fun(x):\n",
    "    dict_a = dict_a = {')':'(','}':'{',']':'['}\n",
    "    stack = []\n",
    "    for i in x:\n",
    "        if i in dict_a:\n",
    "            if not stack:\n",
    "                return False\n",
    "            elif stack.pop() != dict_a[i]:\n",
    "                return False\n",
    "        else:\n",
    "            stack.append(i)\n",
    "    return not stack "
   ]
  },
  {
   "cell_type": "code",
   "execution_count": 2,
   "id": "3ca0e105",
   "metadata": {},
   "outputs": [
    {
     "data": {
      "text/plain": [
       "False"
      ]
     },
     "execution_count": 2,
     "metadata": {},
     "output_type": "execute_result"
    }
   ],
   "source": [
    "s ='({])'\n",
    "Fun(s)"
   ]
  },
  {
   "cell_type": "code",
   "execution_count": 3,
   "id": "81d9dd39",
   "metadata": {},
   "outputs": [
    {
     "name": "stdout",
     "output_type": "stream",
     "text": [
      "True\n"
     ]
    }
   ],
   "source": [
    "s = \"({})\"\n",
    "dict_a = {')':'(','}':'{',']':'['}\n",
    "stack = []\n",
    "for i in s:\n",
    "    if i in dict_a:\n",
    "        if not stack:\n",
    "            print('False')\n",
    "        elif stack.pop()!=dict_a[i]:\n",
    "            print('False')\n",
    "    else:\n",
    "        stack.append(i)\n",
    "if not stack:\n",
    "    print('True')\n",
    "else:\n",
    "    print('False')"
   ]
  }
 ],
 "metadata": {
  "kernelspec": {
   "display_name": "Python 3 (ipykernel)",
   "language": "python",
   "name": "python3"
  },
  "language_info": {
   "codemirror_mode": {
    "name": "ipython",
    "version": 3
   },
   "file_extension": ".py",
   "mimetype": "text/x-python",
   "name": "python",
   "nbconvert_exporter": "python",
   "pygments_lexer": "ipython3",
   "version": "3.9.12"
  }
 },
 "nbformat": 4,
 "nbformat_minor": 5
}
