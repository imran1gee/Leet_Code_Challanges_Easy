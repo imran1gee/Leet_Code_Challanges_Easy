{
 "cells": [
  {
   "cell_type": "code",
   "execution_count": 2,
   "id": "3dd76ff0",
   "metadata": {},
   "outputs": [
    {
     "data": {
      "text/plain": [
       "6"
      ]
     },
     "execution_count": 2,
     "metadata": {},
     "output_type": "execute_result"
    }
   ],
   "source": [
    "def Fun(x,val):\n",
    "# This initialize the list\n",
    "    j = 0;\n",
    "# This runs over the all elements of the list\n",
    "    for i in range(0,len(A)):\n",
    "# This condition checks if any elements in the list has value val and then we remove it\n",
    "        if A[j]==val:\n",
    "            A.remove(val)\n",
    "        else:\n",
    "# This makes to move onto the next element of the list. We must not use i index otherwise the\n",
    "# remove() command will not work since the len of list decrease by removing identical element\n",
    "            j+=1\n",
    "    return j\n",
    "A = [1,2,3,4,5,6,7,4]\n",
    "Fun(A,4)"
   ]
  },
  {
   "cell_type": "code",
   "execution_count": 3,
   "id": "f56d6031",
   "metadata": {},
   "outputs": [
    {
     "name": "stdout",
     "output_type": "stream",
     "text": [
      "[1, 2, 3, 5, 6, 7]\n"
     ]
    }
   ],
   "source": [
    "A = [1,2,3,4,5,6,7,4]\n",
    "val = 4\n",
    "c = len(A)\n",
    "j = 0;\n",
    "\n",
    "for i in range(0,len(A)):\n",
    "    if A[j]==val:\n",
    "#        A.pop(j)\n",
    "        A.remove(val)\n",
    "    else:\n",
    "        j +=1 \n",
    "print(A)"
   ]
  },
  {
   "cell_type": "code",
   "execution_count": null,
   "id": "9f60a93e",
   "metadata": {},
   "outputs": [],
   "source": []
  }
 ],
 "metadata": {
  "kernelspec": {
   "display_name": "Python 3 (ipykernel)",
   "language": "python",
   "name": "python3"
  },
  "language_info": {
   "codemirror_mode": {
    "name": "ipython",
    "version": 3
   },
   "file_extension": ".py",
   "mimetype": "text/x-python",
   "name": "python",
   "nbconvert_exporter": "python",
   "pygments_lexer": "ipython3",
   "version": "3.9.12"
  }
 },
 "nbformat": 4,
 "nbformat_minor": 5
}
