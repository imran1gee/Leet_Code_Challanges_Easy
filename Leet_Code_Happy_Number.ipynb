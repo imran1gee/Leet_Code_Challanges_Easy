{
 "cells": [
  {
   "cell_type": "code",
   "execution_count": null,
   "id": "d4f392db",
   "metadata": {},
   "outputs": [],
   "source": [
    "def isHappy(n):\n",
    "    # Create an empty set to keep track of sums encountered\n",
    "    seen = set()\n",
    "    \n",
    "    # Loop until n equals 1 (happy number) or until a cycle is detected\n",
    "    while n != 1:\n",
    "        # Compute the sum of squares of digits of n\n",
    "        n = sum(int(digit)**2 for digit in str(n))\n",
    "        \n",
    "        # Check if the current sum has been encountered before\n",
    "        if n in seen:\n",
    "            return False   # Cycle detected, not a happy number\n",
    "        \n",
    "        # Add the current sum to the set of encountered sums\n",
    "        seen.add(n)\n",
    "    \n",
    "    return True   # n is a happy number because the sum of squares of digits eventually leads to 1"
   ]
  },
  {
   "cell_type": "code",
   "execution_count": null,
   "id": "bd84a079",
   "metadata": {},
   "outputs": [],
   "source": []
  },
  {
   "cell_type": "code",
   "execution_count": 1,
   "id": "19537ca0",
   "metadata": {},
   "outputs": [
    {
     "name": "stdout",
     "output_type": "stream",
     "text": [
      "4\n",
      "16\n",
      "37\n",
      "58\n",
      "89\n",
      "145\n",
      "42\n",
      "20\n",
      "4\n",
      "False\n",
      "True\n"
     ]
    }
   ],
   "source": [
    "n = 20\n",
    "seen = []\n",
    "while n != 1:\n",
    "    n = sum(int(digit)**2 for digit in str(n))\n",
    "    print(n)\n",
    "    if n in seen:\n",
    "        print('False')\n",
    "        break\n",
    "    seen.append(n)\n",
    "print('True')"
   ]
  },
  {
   "cell_type": "code",
   "execution_count": null,
   "id": "91754cdb",
   "metadata": {},
   "outputs": [],
   "source": [
    "n = 51\n",
    "A = sum([int(digit)**2 for digit in str(n)])"
   ]
  },
  {
   "cell_type": "code",
   "execution_count": null,
   "id": "d7398587",
   "metadata": {},
   "outputs": [],
   "source": [
    "A = [1,2,3,4,5]\n",
    "B = 3\n",
    "if B in A:\n",
    "    print('False')"
   ]
  },
  {
   "cell_type": "code",
   "execution_count": null,
   "id": "2905e881",
   "metadata": {},
   "outputs": [],
   "source": []
  }
 ],
 "metadata": {
  "kernelspec": {
   "display_name": "Python 3 (ipykernel)",
   "language": "python",
   "name": "python3"
  },
  "language_info": {
   "codemirror_mode": {
    "name": "ipython",
    "version": 3
   },
   "file_extension": ".py",
   "mimetype": "text/x-python",
   "name": "python",
   "nbconvert_exporter": "python",
   "pygments_lexer": "ipython3",
   "version": "3.9.12"
  }
 },
 "nbformat": 4,
 "nbformat_minor": 5
}
