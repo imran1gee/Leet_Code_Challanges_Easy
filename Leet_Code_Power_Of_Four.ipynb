{
 "cells": [
  {
   "cell_type": "code",
   "execution_count": 1,
   "id": "44920e08",
   "metadata": {},
   "outputs": [],
   "source": [
    "def Fun(n):\n",
    "    return n > 0 and (n & (n - 1) == 0) and ((n - 1) % 3 == 0)"
   ]
  },
  {
   "cell_type": "code",
   "execution_count": 5,
   "id": "a6cae6cf",
   "metadata": {},
   "outputs": [
    {
     "data": {
      "text/plain": [
       "True"
      ]
     },
     "execution_count": 5,
     "metadata": {},
     "output_type": "execute_result"
    }
   ],
   "source": [
    "Fun(64)"
   ]
  }
 ],
 "metadata": {
  "kernelspec": {
   "display_name": "Python 3 (ipykernel)",
   "language": "python",
   "name": "python3"
  },
  "language_info": {
   "codemirror_mode": {
    "name": "ipython",
    "version": 3
   },
   "file_extension": ".py",
   "mimetype": "text/x-python",
   "name": "python",
   "nbconvert_exporter": "python",
   "pygments_lexer": "ipython3",
   "version": "3.9.12"
  }
 },
 "nbformat": 4,
 "nbformat_minor": 5
}
