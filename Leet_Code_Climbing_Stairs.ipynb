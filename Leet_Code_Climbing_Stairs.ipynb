{
 "cells": [
  {
   "cell_type": "code",
   "execution_count": 46,
   "id": "aff9276f",
   "metadata": {},
   "outputs": [],
   "source": [
    "def Fun(x):\n",
    "    if x==0 or x== 1:\n",
    "        return 1\n",
    "    d = [0]*(x+1)\n",
    "    d[0],d[1] = 1,1\n",
    "    for i in range(2,x+1):\n",
    "        d[i] = d[i-2]+d[i-1]\n",
    "    return d[i]"
   ]
  },
  {
   "cell_type": "code",
   "execution_count": 48,
   "id": "82a3b127",
   "metadata": {},
   "outputs": [
    {
     "data": {
      "text/plain": [
       "5"
      ]
     },
     "execution_count": 48,
     "metadata": {},
     "output_type": "execute_result"
    }
   ],
   "source": [
    "Fun(4)"
   ]
  },
  {
   "cell_type": "code",
   "execution_count": null,
   "id": "069cd299",
   "metadata": {},
   "outputs": [],
   "source": []
  }
 ],
 "metadata": {
  "kernelspec": {
   "display_name": "Python 3 (ipykernel)",
   "language": "python",
   "name": "python3"
  },
  "language_info": {
   "codemirror_mode": {
    "name": "ipython",
    "version": 3
   },
   "file_extension": ".py",
   "mimetype": "text/x-python",
   "name": "python",
   "nbconvert_exporter": "python",
   "pygments_lexer": "ipython3",
   "version": "3.9.12"
  }
 },
 "nbformat": 4,
 "nbformat_minor": 5
}
