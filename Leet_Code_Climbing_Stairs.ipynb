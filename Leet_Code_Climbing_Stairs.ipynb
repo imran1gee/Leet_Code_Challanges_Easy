{
 "cells": [
  {
   "cell_type": "code",
   "execution_count": 46,
   "id": "d815b128",
   "metadata": {},
   "outputs": [],
   "source": [
    "def Fun(x):\n",
    "# This check if the final step is 0 or 1 then return should be 1\n",
    "    if x==0 or x== 1:\n",
    "        return 1\n",
    "# We initialize an array with 0s and with length of x+1 lenght\n",
    "    d = [0]*(x+1)\n",
    "# We will make recurssion since we move to any i step from either the i-1 step or from i-2 step\n",
    "    d[0],d[1] = 1,1\n",
    "    for i in range(2,x+1):\n",
    "        d[i] = d[i-2]+d[i-1]\n",
    "    return d[i]"
   ]
  },
  {
   "cell_type": "code",
   "execution_count": 48,
   "id": "3695b8e4",
   "metadata": {},
   "outputs": [
    {
     "data": {
      "text/plain": [
       "5"
      ]
     },
     "execution_count": 48,
     "metadata": {},
     "output_type": "execute_result"
    }
   ],
   "source": [
    "Fun(4)"
   ]
  },
  {
   "cell_type": "code",
   "execution_count": null,
   "id": "df3ca94d",
   "metadata": {},
   "outputs": [],
   "source": []
  }
 ],
 "metadata": {
  "kernelspec": {
   "display_name": "Python 3 (ipykernel)",
   "language": "python",
   "name": "python3"
  },
  "language_info": {
   "codemirror_mode": {
    "name": "ipython",
    "version": 3
   },
   "file_extension": ".py",
   "mimetype": "text/x-python",
   "name": "python",
   "nbconvert_exporter": "python",
   "pygments_lexer": "ipython3",
   "version": "3.9.12"
  }
 },
 "nbformat": 4,
 "nbformat_minor": 5
}
