{
 "cells": [
  {
   "cell_type": "code",
   "execution_count": 1,
   "id": "516674a0",
   "metadata": {},
   "outputs": [],
   "source": [
    "def convertToTitle(columnNumber: int) -> str:\n",
    "    # Initialize an empty string to store the resulting column title\n",
    "    result = ''\n",
    "    \n",
    "    # Loop while columnNumber is greater than zero\n",
    "    while columnNumber > 0:\n",
    "        # Since column titles start at 'A' instead of '0', we subtract 1 from columnNumber to adjust the index\n",
    "        columnNumber -= 1\n",
    "        \n",
    "        # Calculate the remainder of columnNumber divided by 26, and add it to 65 (the ASCII code for 'A')\n",
    "        # This gives us the ASCII code of the rightmost letter in the column title\n",
    "        remainder = columnNumber % 26\n",
    "        result += chr(65 + remainder)\n",
    "        \n",
    "        # Divide columnNumber by 26 using integer division (//) and assign the result back to columnNumber\n",
    "        # This gives us the index of the next rightmost letter in the column title\n",
    "        columnNumber //= 26\n",
    "    \n",
    "    # Reverse the order of the characters in result, since we appended the letters in reverse order\n",
    "    reversed_result = result[::-1]\n",
    "    \n",
    "    # Return the final string\n",
    "    return reversed_result"
   ]
  },
  {
   "cell_type": "code",
   "execution_count": 32,
   "id": "d560928d",
   "metadata": {},
   "outputs": [
    {
     "name": "stdout",
     "output_type": "stream",
     "text": [
      "Y\n"
     ]
    }
   ],
   "source": [
    "columnNumber = 25\n",
    "result = ''\n",
    "while columnNumber > 0:\n",
    "    columnNumber -= 1\n",
    "    remainder = columnNumber % 26\n",
    "    result += chr(ord('A') + remainder)\n",
    "    columnNumber //= 26\n",
    "print(result[::-1])"
   ]
  },
  {
   "cell_type": "code",
   "execution_count": 33,
   "id": "8497134a",
   "metadata": {},
   "outputs": [
    {
     "data": {
      "text/plain": [
       "'Y'"
      ]
     },
     "execution_count": 33,
     "metadata": {},
     "output_type": "execute_result"
    }
   ],
   "source": [
    "chr(65+24)"
   ]
  },
  {
   "cell_type": "code",
   "execution_count": 30,
   "id": "56d5f96e",
   "metadata": {},
   "outputs": [
    {
     "data": {
      "text/plain": [
       "'BA'"
      ]
     },
     "execution_count": 30,
     "metadata": {},
     "output_type": "execute_result"
    }
   ],
   "source": [
    "result"
   ]
  },
  {
   "cell_type": "code",
   "execution_count": 15,
   "id": "563ad693",
   "metadata": {},
   "outputs": [
    {
     "data": {
      "text/plain": [
       "65"
      ]
     },
     "execution_count": 15,
     "metadata": {},
     "output_type": "execute_result"
    }
   ],
   "source": [
    "ord('A')"
   ]
  },
  {
   "cell_type": "code",
   "execution_count": 10,
   "id": "258128e3",
   "metadata": {},
   "outputs": [
    {
     "data": {
      "text/plain": [
       "0"
      ]
     },
     "execution_count": 10,
     "metadata": {},
     "output_type": "execute_result"
    }
   ],
   "source": [
    "12//26"
   ]
  },
  {
   "cell_type": "code",
   "execution_count": 11,
   "id": "d704dcf3",
   "metadata": {},
   "outputs": [
    {
     "data": {
      "text/plain": [
       "1"
      ]
     },
     "execution_count": 11,
     "metadata": {},
     "output_type": "execute_result"
    }
   ],
   "source": [
    "27//26"
   ]
  },
  {
   "cell_type": "code",
   "execution_count": 12,
   "id": "9832a516",
   "metadata": {},
   "outputs": [
    {
     "data": {
      "text/plain": [
       "1"
      ]
     },
     "execution_count": 12,
     "metadata": {},
     "output_type": "execute_result"
    }
   ],
   "source": [
    "28//26"
   ]
  },
  {
   "cell_type": "code",
   "execution_count": 13,
   "id": "bb650e5d",
   "metadata": {},
   "outputs": [
    {
     "data": {
      "text/plain": [
       "2"
      ]
     },
     "execution_count": 13,
     "metadata": {},
     "output_type": "execute_result"
    }
   ],
   "source": [
    "28%26"
   ]
  },
  {
   "cell_type": "code",
   "execution_count": null,
   "id": "8e86cbf4",
   "metadata": {},
   "outputs": [],
   "source": []
  }
 ],
 "metadata": {
  "kernelspec": {
   "display_name": "Python 3 (ipykernel)",
   "language": "python",
   "name": "python3"
  },
  "language_info": {
   "codemirror_mode": {
    "name": "ipython",
    "version": 3
   },
   "file_extension": ".py",
   "mimetype": "text/x-python",
   "name": "python",
   "nbconvert_exporter": "python",
   "pygments_lexer": "ipython3",
   "version": "3.9.12"
  }
 },
 "nbformat": 4,
 "nbformat_minor": 5
}
