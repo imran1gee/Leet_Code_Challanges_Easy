{
 "cells": [
  {
   "cell_type": "code",
   "execution_count": 2,
   "id": "0fde8467",
   "metadata": {},
   "outputs": [
    {
     "data": {
      "text/plain": [
       "[1, 4, 3, 5, 4, 0, 0]"
      ]
     },
     "execution_count": 2,
     "metadata": {},
     "output_type": "execute_result"
    }
   ],
   "source": [
    "def Fun(nums):\n",
    "    zero_index = 0  # Index to keep track of the position to swap zeros\n",
    "    for i in range(len(nums)):\n",
    "        if nums[i] != 0:\n",
    "            nums[i], nums[zero_index] = nums[zero_index], nums[i]\n",
    "            zero_index += 1\n",
    "    return nums\n",
    "nums = [1,4,0,3,5,0,4]\n",
    "Fun(nums)"
   ]
  },
  {
   "cell_type": "code",
   "execution_count": null,
   "id": "a47d34f4",
   "metadata": {},
   "outputs": [],
   "source": []
  }
 ],
 "metadata": {
  "kernelspec": {
   "display_name": "Python 3 (ipykernel)",
   "language": "python",
   "name": "python3"
  },
  "language_info": {
   "codemirror_mode": {
    "name": "ipython",
    "version": 3
   },
   "file_extension": ".py",
   "mimetype": "text/x-python",
   "name": "python",
   "nbconvert_exporter": "python",
   "pygments_lexer": "ipython3",
   "version": "3.9.12"
  }
 },
 "nbformat": 4,
 "nbformat_minor": 5
}
