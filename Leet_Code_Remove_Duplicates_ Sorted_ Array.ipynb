{
 "cells": [
  {
   "cell_type": "code",
   "execution_count": 40,
   "id": "a40b7791",
   "metadata": {},
   "outputs": [
    {
     "data": {
      "text/plain": [
       "(5, [0, 1, 2, 3, 4, 4, 4])"
      ]
     },
     "execution_count": 40,
     "metadata": {},
     "output_type": "execute_result"
    }
   ],
   "source": [
    "def removeDuplicates(nums):\n",
    "# This condition makes sure if the list is empty then return 0 \n",
    "    if not nums:\n",
    "        return 0\n",
    "# We are starting from the first element of the list\n",
    "    j = 0\n",
    "# This for loop run over list from start till the length of list -1\n",
    "    for i in range(0,len(nums)-1):\n",
    "# This condition checks the element with the front element\n",
    "        if nums[i]!=nums[i+1]:\n",
    "            j +=1 \n",
    "            nums[j] = nums[i+1]      \n",
    "    return j+1,nums\n",
    "A = [0,0,1,2,3,4,4]\n",
    "removeDuplicates(A)"
   ]
  },
  {
   "cell_type": "code",
   "execution_count": null,
   "id": "6b30d234",
   "metadata": {},
   "outputs": [],
   "source": []
  }
 ],
 "metadata": {
  "kernelspec": {
   "display_name": "Python 3 (ipykernel)",
   "language": "python",
   "name": "python3"
  },
  "language_info": {
   "codemirror_mode": {
    "name": "ipython",
    "version": 3
   },
   "file_extension": ".py",
   "mimetype": "text/x-python",
   "name": "python",
   "nbconvert_exporter": "python",
   "pygments_lexer": "ipython3",
   "version": "3.9.12"
  }
 },
 "nbformat": 4,
 "nbformat_minor": 5
}
