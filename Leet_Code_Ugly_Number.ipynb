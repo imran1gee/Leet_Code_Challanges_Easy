{
 "cells": [
  {
   "cell_type": "code",
   "execution_count": 1,
   "id": "6240d6ae",
   "metadata": {},
   "outputs": [
    {
     "data": {
      "text/plain": [
       "5"
      ]
     },
     "execution_count": 1,
     "metadata": {},
     "output_type": "execute_result"
    }
   ],
   "source": [
    "10//2"
   ]
  },
  {
   "cell_type": "code",
   "execution_count": 2,
   "id": "83918563",
   "metadata": {},
   "outputs": [
    {
     "data": {
      "text/plain": [
       "7"
      ]
     },
     "execution_count": 2,
     "metadata": {},
     "output_type": "execute_result"
    }
   ],
   "source": [
    "14//2"
   ]
  },
  {
   "cell_type": "code",
   "execution_count": 4,
   "id": "346b121c",
   "metadata": {},
   "outputs": [
    {
     "name": "stdout",
     "output_type": "stream",
     "text": [
      "7\n"
     ]
    }
   ],
   "source": [
    "    n = 14\n",
    "    if n <= 0:\n",
    "        print('F') \n",
    "    while n % 2 == 0:\n",
    "        n //= 2\n",
    "    while n % 3 == 0:\n",
    "        n //= 3\n",
    "    while n % 5 == 0:\n",
    "        n //= 5\n",
    "    print(n)"
   ]
  },
  {
   "cell_type": "code",
   "execution_count": 5,
   "id": "bfb16e6e",
   "metadata": {},
   "outputs": [
    {
     "data": {
      "text/plain": [
       "False"
      ]
     },
     "execution_count": 5,
     "metadata": {},
     "output_type": "execute_result"
    }
   ],
   "source": [
    " def Fun(n):   \n",
    "    if n <= 0:\n",
    "        return False\n",
    "    while n % 2 == 0:\n",
    "        n //= 2\n",
    "    while n % 3 == 0:\n",
    "        n //= 3\n",
    "    while n % 5 == 0:\n",
    "        n //= 5\n",
    "    return n == 1\n",
    "Fun(14)"
   ]
  },
  {
   "cell_type": "code",
   "execution_count": 6,
   "id": "1fa1010f",
   "metadata": {},
   "outputs": [
    {
     "data": {
      "text/plain": [
       "7"
      ]
     },
     "execution_count": 6,
     "metadata": {},
     "output_type": "execute_result"
    }
   ],
   "source": [
    "14//2"
   ]
  },
  {
   "cell_type": "code",
   "execution_count": null,
   "id": "360a65ec",
   "metadata": {},
   "outputs": [],
   "source": []
  }
 ],
 "metadata": {
  "kernelspec": {
   "display_name": "Python 3 (ipykernel)",
   "language": "python",
   "name": "python3"
  },
  "language_info": {
   "codemirror_mode": {
    "name": "ipython",
    "version": 3
   },
   "file_extension": ".py",
   "mimetype": "text/x-python",
   "name": "python",
   "nbconvert_exporter": "python",
   "pygments_lexer": "ipython3",
   "version": "3.9.12"
  }
 },
 "nbformat": 4,
 "nbformat_minor": 5
}
