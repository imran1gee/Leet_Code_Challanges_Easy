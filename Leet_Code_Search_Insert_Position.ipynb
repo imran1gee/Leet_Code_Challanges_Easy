{
 "cells": [
  {
   "cell_type": "code",
   "execution_count": 1,
   "id": "dd21c39f",
   "metadata": {},
   "outputs": [
    {
     "data": {
      "text/plain": [
       "4"
      ]
     },
     "execution_count": 1,
     "metadata": {},
     "output_type": "execute_result"
    }
   ],
   "source": [
    "def Fun(x,val):\n",
    "# We define a list to store the index where val is found\n",
    "    Find = []\n",
    "# We loop over the entire length of list\n",
    "    for i in range(0,len(x)):\n",
    "# We put the condition if val is found then return the index\n",
    "        if x[i]==val:\n",
    "            Find.append(i)\n",
    "            return i\n",
    "# This is the complementary condition if Find is empty and the element is now bigger than val, this means \n",
    "# we spot the location for the index to be placed.\n",
    "        elif not Find and x[i]>val:\n",
    "            return i\n",
    "# This is the complementary condition if the end of the list has reached and val is not found and is larger\n",
    "# then all elements of the list then the index will be end of the index +1\n",
    "        elif i==len(x)-1:\n",
    "            return len(x)\n",
    "A = [1,2,3,5]\n",
    "val = 6\n",
    "Fun(A,val)\n",
    "        "
   ]
  },
  {
   "cell_type": "code",
   "execution_count": 2,
   "id": "726fb1ea",
   "metadata": {},
   "outputs": [
    {
     "name": "stdout",
     "output_type": "stream",
     "text": [
      "[] [6]\n"
     ]
    }
   ],
   "source": [
    "A = [0,1,2,3,5,6]\n",
    "val = 7\n",
    "Find= []\n",
    "Find_1= []\n",
    "Find_2= []\n",
    "for i in range(0,len(A)):\n",
    "    if A[i] == val:\n",
    "        Find.append(i)\n",
    "    elif not Find and A[i]>val:\n",
    "        Find_1.append(i)\n",
    "        break\n",
    "    elif i==len(A)-1:\n",
    "        Find_1.append(len(A))\n",
    "print(Find,Find_1)"
   ]
  },
  {
   "cell_type": "code",
   "execution_count": 3,
   "id": "4909c188",
   "metadata": {},
   "outputs": [
    {
     "data": {
      "text/plain": [
       "[0, 1, 2, 3, 5, 6, 7]"
      ]
     },
     "execution_count": 3,
     "metadata": {},
     "output_type": "execute_result"
    }
   ],
   "source": [
    "A.insert(Find_1[0],val)\n",
    "A"
   ]
  },
  {
   "cell_type": "code",
   "execution_count": null,
   "id": "ac406e92",
   "metadata": {},
   "outputs": [],
   "source": []
  }
 ],
 "metadata": {
  "kernelspec": {
   "display_name": "Python 3 (ipykernel)",
   "language": "python",
   "name": "python3"
  },
  "language_info": {
   "codemirror_mode": {
    "name": "ipython",
    "version": 3
   },
   "file_extension": ".py",
   "mimetype": "text/x-python",
   "name": "python",
   "nbconvert_exporter": "python",
   "pygments_lexer": "ipython3",
   "version": "3.9.12"
  }
 },
 "nbformat": 4,
 "nbformat_minor": 5
}
