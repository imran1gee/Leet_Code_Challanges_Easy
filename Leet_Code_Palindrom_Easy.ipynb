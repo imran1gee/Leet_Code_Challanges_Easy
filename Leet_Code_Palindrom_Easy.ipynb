{
 "cells": [
  {
   "cell_type": "code",
   "execution_count": 2,
   "id": "31341b1b",
   "metadata": {},
   "outputs": [],
   "source": [
    "def isPalindrom(x):\n",
    "    x_str = str(x)\n",
    "    if len(x_str)==1:\n",
    "        print('True')\n",
    "    else:\n",
    "        if len(x_str)%2==0:\n",
    "            Lim = int(len(x_str)/2 )\n",
    "            List_R = x_str[Lim:len(x_str)]\n",
    "        else:\n",
    "            Lim = int((len(x_str)-1)/2)\n",
    "            List_R = x_str[Lim+1:len(x_str)]\n",
    "        List_L = x_str[0:Lim]\n",
    "        List_r = List_R[::-1]\n",
    "        if List_r in List_L:\n",
    "            print('True') \n",
    "        else:\n",
    "            print('False')"
   ]
  },
  {
   "cell_type": "code",
   "execution_count": 3,
   "id": "6f33d23f",
   "metadata": {},
   "outputs": [
    {
     "name": "stdout",
     "output_type": "stream",
     "text": [
      "True\n"
     ]
    }
   ],
   "source": [
    "x = 121\n",
    "x_str = str(x)\n",
    "if len(x_str)==1:\n",
    "    print('True')\n",
    "else:\n",
    "    if len(x_str)%2==0:\n",
    "        Lim = int(len(x_str)/2 )\n",
    "        List_R = x_str[Lim:len(x_str)]\n",
    "    else:\n",
    "        Lim = int((len(x_str)-1)/2)\n",
    "        List_R = x_str[Lim+1:len(x_str)]\n",
    "    List_L = x_str[0:Lim]\n",
    "    List_r = List_R[::-1]\n",
    "    if List_r in List_L:\n",
    "        print('True') \n",
    "    else:\n",
    "        print('False')"
   ]
  },
  {
   "cell_type": "code",
   "execution_count": 4,
   "id": "f2fc242d",
   "metadata": {},
   "outputs": [
    {
     "name": "stdout",
     "output_type": "stream",
     "text": [
      "True\n"
     ]
    }
   ],
   "source": [
    "isPalindrom(x)"
   ]
  },
  {
   "cell_type": "code",
   "execution_count": null,
   "id": "1712fdfd",
   "metadata": {},
   "outputs": [],
   "source": []
  }
 ],
 "metadata": {
  "kernelspec": {
   "display_name": "Python 3 (ipykernel)",
   "language": "python",
   "name": "python3"
  },
  "language_info": {
   "codemirror_mode": {
    "name": "ipython",
    "version": 3
   },
   "file_extension": ".py",
   "mimetype": "text/x-python",
   "name": "python",
   "nbconvert_exporter": "python",
   "pygments_lexer": "ipython3",
   "version": "3.9.12"
  }
 },
 "nbformat": 4,
 "nbformat_minor": 5
}
