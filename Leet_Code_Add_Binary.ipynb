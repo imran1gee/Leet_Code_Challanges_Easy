{
 "cells": [
  {
   "cell_type": "code",
   "execution_count": 1,
   "id": "a4a00589",
   "metadata": {},
   "outputs": [
    {
     "data": {
      "text/plain": [
       "'110'"
      ]
     },
     "execution_count": 1,
     "metadata": {},
     "output_type": "execute_result"
    }
   ],
   "source": [
    "def Fun(a, b):\n",
    "    # convert binary strings to decimal integers\n",
    "    num1 = int(a, 2)\n",
    "    num2 = int(b, 2)\n",
    "\n",
    "    # add the two numbers together\n",
    "    result = num1 + num2\n",
    "\n",
    "    # convert the result back to a binary string\n",
    "    return bin(result)[2:]\n",
    "a = '101'\n",
    "b = '1'\n",
    "Fun(a,b) "
   ]
  },
  {
   "cell_type": "code",
   "execution_count": 2,
   "id": "ac925d09",
   "metadata": {},
   "outputs": [
    {
     "data": {
      "text/plain": [
       "'110'"
      ]
     },
     "execution_count": 2,
     "metadata": {},
     "output_type": "execute_result"
    }
   ],
   "source": [
    "def Fun(a,b):\n",
    "# This initilizes carry, result(string), and we want to run while loop on reverse\n",
    "    carry = 0\n",
    "    result = ''\n",
    "    i = len(a) - 1\n",
    "    j = len(b) - 1\n",
    "# While loop runs till string a string b is exhuasted and the carry becomes 0\n",
    "    while i >= 0 or j >= 0 or carry > 0:\n",
    "# This sum take cares of adding binary numbers\n",
    "        sum = carry\n",
    "        if i >= 0:\n",
    "            sum += int(a[i])\n",
    "# This i decerease towards the end of string\n",
    "            i -= 1\n",
    "        if j >= 0:\n",
    "            sum += int(b[j])\n",
    "            j -=1\n",
    "# This concatenate the result and also the reminder for division by 2 gives the result\n",
    "        result = str(sum%2) + result\n",
    "# The carry is sum divided by 2\n",
    "        carry = sum // 2\n",
    "# At the end of while loop we get the result\n",
    "    return result\n",
    "a = '101'\n",
    "b = '1'\n",
    "Fun(a,b)        "
   ]
  },
  {
   "cell_type": "code",
   "execution_count": null,
   "id": "4a9caf62",
   "metadata": {},
   "outputs": [],
   "source": []
  }
 ],
 "metadata": {
  "kernelspec": {
   "display_name": "Python 3 (ipykernel)",
   "language": "python",
   "name": "python3"
  },
  "language_info": {
   "codemirror_mode": {
    "name": "ipython",
    "version": 3
   },
   "file_extension": ".py",
   "mimetype": "text/x-python",
   "name": "python",
   "nbconvert_exporter": "python",
   "pygments_lexer": "ipython3",
   "version": "3.9.12"
  }
 },
 "nbformat": 4,
 "nbformat_minor": 5
}
