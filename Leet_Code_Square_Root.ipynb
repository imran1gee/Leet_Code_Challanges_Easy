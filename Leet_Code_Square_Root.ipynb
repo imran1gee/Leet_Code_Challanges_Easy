{
 "cells": [
  {
   "cell_type": "code",
   "execution_count": 76,
   "id": "cfc94e29",
   "metadata": {},
   "outputs": [
    {
     "data": {
      "text/plain": [
       "4"
      ]
     },
     "execution_count": 76,
     "metadata": {},
     "output_type": "execute_result"
    }
   ],
   "source": [
    "def Fun(x):\n",
    "# This sets the start and end point to locate the square root\n",
    "    left,right = 1,x\n",
    "# This loop runs to locate the square root\n",
    "    while left<=right:\n",
    "# This checks if mid point square is smaller or larger than the value x and adjust the start and end point accordingly\n",
    "        mid = (left+right)//2\n",
    "        if mid*mid > x:\n",
    "            right = mid - 1\n",
    "        else:\n",
    "            left = mid + 1\n",
    "# Upto to round up integer the right gives the square root of the number \n",
    "    return right\n",
    "Fun(16)"
   ]
  },
  {
   "cell_type": "code",
   "execution_count": 71,
   "id": "4f8ea698",
   "metadata": {},
   "outputs": [
    {
     "data": {
      "text/plain": [
       "3"
      ]
     },
     "execution_count": 71,
     "metadata": {},
     "output_type": "execute_result"
    }
   ],
   "source": [
    "x = 9\n",
    "left,right = 1,x\n",
    "while left<=right:\n",
    "    mid = (left+right)//2\n",
    "    if mid*mid>x:\n",
    "        right = mid-1\n",
    "    else:\n",
    "        left = mid+1\n",
    "#    print(mid,right,left)\n",
    "print(right,left,mid)"
   ]
  },
  {
   "cell_type": "code",
   "execution_count": null,
   "id": "1ff97110",
   "metadata": {},
   "outputs": [],
   "source": []
  }
 ],
 "metadata": {
  "kernelspec": {
   "display_name": "Python 3 (ipykernel)",
   "language": "python",
   "name": "python3"
  },
  "language_info": {
   "codemirror_mode": {
    "name": "ipython",
    "version": 3
   },
   "file_extension": ".py",
   "mimetype": "text/x-python",
   "name": "python",
   "nbconvert_exporter": "python",
   "pygments_lexer": "ipython3",
   "version": "3.9.12"
  }
 },
 "nbformat": 4,
 "nbformat_minor": 5
}
