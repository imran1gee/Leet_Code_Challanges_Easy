{
 "cells": [
  {
   "cell_type": "code",
   "execution_count": 1,
   "id": "dfdb6b19",
   "metadata": {},
   "outputs": [],
   "source": [
    "import numpy as np"
   ]
  },
  {
   "cell_type": "code",
   "execution_count": 2,
   "id": "bc76ee33",
   "metadata": {},
   "outputs": [],
   "source": [
    "def twoSum(nums, target):\n",
    "    list_index = []\n",
    "    target_1 = 0\n",
    "    for i in range(0,len(nums)-1):\n",
    "        for j in range(i,len(nums)-1):\n",
    "            target_1 = nums[i]+nums[j+1]\n",
    "            if target_1 == target: \n",
    "                list_index = [i,j+1]\n",
    "    return list_index\n",
    "nums = np.array([2,7,11,15])\n",
    "for i in range(len(nums),len(nums)):\n",
    "    print(nums[i])"
   ]
  },
  {
   "cell_type": "code",
   "execution_count": 3,
   "id": "c60443ec",
   "metadata": {},
   "outputs": [
    {
     "data": {
      "text/plain": [
       "[2, 3]"
      ]
     },
     "execution_count": 3,
     "metadata": {},
     "output_type": "execute_result"
    }
   ],
   "source": [
    "twoSum(nums = nums,target = 26)"
   ]
  },
  {
   "cell_type": "code",
   "execution_count": 4,
   "id": "e2813eb6",
   "metadata": {},
   "outputs": [
    {
     "name": "stdout",
     "output_type": "stream",
     "text": [
      "0 2\n",
      "1 7\n",
      "2 11\n",
      "3 15\n"
     ]
    }
   ],
   "source": [
    "for i, num in enumerate(nums):\n",
    "    print(i,num)"
   ]
  },
  {
   "cell_type": "code",
   "execution_count": 9,
   "id": "5b97c3f5",
   "metadata": {},
   "outputs": [],
   "source": [
    "target_1 = list(map(lambda x: x+nums[i],nums))"
   ]
  },
  {
   "cell_type": "code",
   "execution_count": 10,
   "id": "19ae7e69",
   "metadata": {},
   "outputs": [
    {
     "data": {
      "text/plain": [
       "[17, 22, 26, 30]"
      ]
     },
     "execution_count": 10,
     "metadata": {},
     "output_type": "execute_result"
    }
   ],
   "source": [
    "target_1"
   ]
  },
  {
   "cell_type": "code",
   "execution_count": 12,
   "id": "4e6865c0",
   "metadata": {},
   "outputs": [
    {
     "name": "stdout",
     "output_type": "stream",
     "text": [
      "yes\n"
     ]
    }
   ],
   "source": [
    "target = 22\n",
    "if target in target_1:\n",
    "    print('yes')"
   ]
  },
  {
   "cell_type": "code",
   "execution_count": 18,
   "id": "50c7ab8f",
   "metadata": {},
   "outputs": [],
   "source": [
    "c = np.array(target_1)"
   ]
  },
  {
   "cell_type": "code",
   "execution_count": 21,
   "id": "7dcf9a46",
   "metadata": {},
   "outputs": [
    {
     "data": {
      "text/plain": [
       "list"
      ]
     },
     "execution_count": 21,
     "metadata": {},
     "output_type": "execute_result"
    }
   ],
   "source": [
    "type(target_1)"
   ]
  },
  {
   "cell_type": "code",
   "execution_count": null,
   "id": "552d56be",
   "metadata": {},
   "outputs": [],
   "source": []
  }
 ],
 "metadata": {
  "kernelspec": {
   "display_name": "Python 3 (ipykernel)",
   "language": "python",
   "name": "python3"
  },
  "language_info": {
   "codemirror_mode": {
    "name": "ipython",
    "version": 3
   },
   "file_extension": ".py",
   "mimetype": "text/x-python",
   "name": "python",
   "nbconvert_exporter": "python",
   "pygments_lexer": "ipython3",
   "version": "3.9.12"
  }
 },
 "nbformat": 4,
 "nbformat_minor": 5
}
