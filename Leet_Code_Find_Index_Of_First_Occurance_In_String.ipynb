{
 "cells": [
  {
   "cell_type": "code",
   "execution_count": 1,
   "id": "ec67edfe",
   "metadata": {},
   "outputs": [
    {
     "data": {
      "text/plain": [
       "0"
      ]
     },
     "execution_count": 1,
     "metadata": {},
     "output_type": "execute_result"
    }
   ],
   "source": [
    "def Fun(x,y):\n",
    "# This initializes the indices for string to locate\n",
    "    indices = []\n",
    "# This for loop runs to match the required string. The len(y)-1 because we want to step on last combination.\n",
    "    for i in range(0,len(x)-(len(y)-1)):\n",
    "# This condition checks the words for the possible match\n",
    "        if x[i:i+len(y)] == y:\n",
    "            indices.append(i)\n",
    "# This condition checks if indices are empty return -1\n",
    "    if not indices:\n",
    "        return -1\n",
    "# This complimentary condition returns the first match of index\n",
    "    else:\n",
    "        return indices[0]\n",
    "haystack = \"sadbutsad\"\n",
    "#haystack = \"quer\"\n",
    "needle = \"sad\"\n",
    "Fun(haystack,needle)"
   ]
  },
  {
   "cell_type": "code",
   "execution_count": 2,
   "id": "26aa355b",
   "metadata": {},
   "outputs": [
    {
     "name": "stdout",
     "output_type": "stream",
     "text": [
      "[0, 6]\n",
      "0\n"
     ]
    }
   ],
   "source": [
    "haystack = \"sadbutsad\"\n",
    "#haystack = \"quer\"\n",
    "needle = \"sad\"\n",
    "indices = []\n",
    "for i in range(0,len(haystack)-(len(needle)-1)):\n",
    "    if haystack[i:i+len(needle)]==needle:\n",
    "        indices.append(i)\n",
    "print(indices)\n",
    "if not indices:\n",
    "    print(-1)\n",
    "else:\n",
    "    print(indices[0])"
   ]
  }
 ],
 "metadata": {
  "kernelspec": {
   "display_name": "Python 3 (ipykernel)",
   "language": "python",
   "name": "python3"
  },
  "language_info": {
   "codemirror_mode": {
    "name": "ipython",
    "version": 3
   },
   "file_extension": ".py",
   "mimetype": "text/x-python",
   "name": "python",
   "nbconvert_exporter": "python",
   "pygments_lexer": "ipython3",
   "version": "3.9.12"
  }
 },
 "nbformat": 4,
 "nbformat_minor": 5
}
