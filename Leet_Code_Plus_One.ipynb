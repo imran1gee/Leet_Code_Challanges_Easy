{
 "cells": [
  {
   "cell_type": "code",
   "execution_count": 11,
   "id": "94c3d7e1",
   "metadata": {},
   "outputs": [],
   "source": [
    "def plusOne(digits):\n",
    "    carry = 1\n",
    "    for i in range(len(digits)-1, -1, -1):\n",
    "        digits[i] += carry\n",
    "        if digits[i] < 10:\n",
    "            carry = 0\n",
    "            break\n",
    "        else:\n",
    "            digits[i] = 0\n",
    "    if carry == 1:\n",
    "        digits.insert(0, 1)\n",
    "    return digits"
   ]
  },
  {
   "cell_type": "code",
   "execution_count": 15,
   "id": "874dc617",
   "metadata": {},
   "outputs": [
    {
     "name": "stdout",
     "output_type": "stream",
     "text": [
      "[1, 0, 0, 0]\n"
     ]
    }
   ],
   "source": [
    "print(plusOne([9,9,9]))"
   ]
  },
  {
   "cell_type": "code",
   "execution_count": 21,
   "id": "e34bd6fd",
   "metadata": {},
   "outputs": [
    {
     "name": "stdout",
     "output_type": "stream",
     "text": [
      "[2, 0, 0]\n"
     ]
    }
   ],
   "source": [
    "A = [1,9,9]\n",
    "carry = 1\n",
    "for i in range(len(A)-1,-1,-1):\n",
    "    A[i]+=carry\n",
    "    if A[i]<10:\n",
    "        carry = 0\n",
    "        break\n",
    "    else:\n",
    "        A[i]=0\n",
    "if carry == 1:\n",
    "    A.insert(0,1)\n",
    "print(A)"
   ]
  },
  {
   "cell_type": "code",
   "execution_count": 33,
   "id": "ecc42b05",
   "metadata": {},
   "outputs": [
    {
     "name": "stdout",
     "output_type": "stream",
     "text": [
      "[9, 9, 9, 9]\n"
     ]
    }
   ],
   "source": [
    "A = [9,9,9,8]\n",
    "for i in range(len(A)-1,-1,-1):\n",
    "    if A[i]==9:\n",
    "        A[i]=0\n",
    "        c = 1\n",
    "    else:\n",
    "        A[i]=A[i]+1\n",
    "        c = 0\n",
    "        break\n",
    "if c == 1:\n",
    "    A.insert(0,1)\n",
    "print(A)"
   ]
  },
  {
   "cell_type": "code",
   "execution_count": 36,
   "id": "ffc44800",
   "metadata": {},
   "outputs": [
    {
     "name": "stdout",
     "output_type": "stream",
     "text": [
      "2\n",
      "1\n"
     ]
    }
   ],
   "source": [
    "A = ['a','b','c']\n",
    "for i in range(len(A)-1, 0, -1):\n",
    "    print(i)"
   ]
  },
  {
   "cell_type": "code",
   "execution_count": 48,
   "id": "ea7aa163",
   "metadata": {},
   "outputs": [
    {
     "name": "stdout",
     "output_type": "stream",
     "text": [
      "[8, 8, 9]\n"
     ]
    }
   ],
   "source": [
    "A = [8,8,8]\n",
    "for i in range(1,len(A)+1):\n",
    "    if A[-i]==9:\n",
    "        A[-i]=0\n",
    "        c = 1\n",
    "    else:\n",
    "        A[-i]+=1\n",
    "        c =0\n",
    "        break\n",
    "if c == 1:\n",
    "    A.insert(0,1)\n",
    "print(A)"
   ]
  },
  {
   "cell_type": "code",
   "execution_count": 54,
   "id": "c4542627",
   "metadata": {},
   "outputs": [
    {
     "data": {
      "text/plain": [
       "[1, 0, 0, 0]"
      ]
     },
     "execution_count": 54,
     "metadata": {},
     "output_type": "execute_result"
    }
   ],
   "source": [
    "A = [9,9,9]\n",
    "def  Fun(x):\n",
    "# For loop needs to start list from the end\n",
    "    for i in range(1,len(x)+1):\n",
    "# The condition is on the last digit if its 9 or not\n",
    "        if x[-i]==9:\n",
    "            x[-i]=0\n",
    "# This flying c carry the information that if all the elements of the list are 9 then we need to make a 1 at the\n",
    "#start\n",
    "            c = 1\n",
    "        else:\n",
    "# The complementary condition to carry 1 to the next digit if previous digits were 9\n",
    "            x[-i]+=1\n",
    "# We must set c =0 if a digit before firs\n",
    "            c =0\n",
    "            break\n",
    "    if c == 1:\n",
    "        x.insert(0,1)\n",
    "    return x\n",
    "Fun(A)"
   ]
  },
  {
   "cell_type": "code",
   "execution_count": null,
   "id": "18dd3de6",
   "metadata": {},
   "outputs": [],
   "source": []
  }
 ],
 "metadata": {
  "kernelspec": {
   "display_name": "Python 3 (ipykernel)",
   "language": "python",
   "name": "python3"
  },
  "language_info": {
   "codemirror_mode": {
    "name": "ipython",
    "version": 3
   },
   "file_extension": ".py",
   "mimetype": "text/x-python",
   "name": "python",
   "nbconvert_exporter": "python",
   "pygments_lexer": "ipython3",
   "version": "3.9.12"
  }
 },
 "nbformat": 4,
 "nbformat_minor": 5
}
