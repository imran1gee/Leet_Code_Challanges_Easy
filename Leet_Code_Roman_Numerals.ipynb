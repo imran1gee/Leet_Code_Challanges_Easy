{
 "cells": [
  {
   "cell_type": "code",
   "execution_count": 1,
   "id": "b0bd1925",
   "metadata": {},
   "outputs": [],
   "source": [
    "def romanToInt(x):\n",
    "    A = {\"I\":1,\"V\":5,\"X\":10,\"L\":50,\"C\":100,\"D\":500,\"M\":1000}\n",
    "    c = list(x)\n",
    "    c = list(c)\n",
    "    total = 0\n",
    "    for i in range(0,len(c)):\n",
    "        if i<(len(c)-1) and A[c[i]]<A[c[i+1]]:\n",
    "            total -=A[c[i]]\n",
    "        else:\n",
    "            total +=A[c[i]]\n",
    "    return total"
   ]
  },
  {
   "cell_type": "code",
   "execution_count": 2,
   "id": "47a6c840",
   "metadata": {},
   "outputs": [
    {
     "name": "stdout",
     "output_type": "stream",
     "text": [
      "45\n"
     ]
    }
   ],
   "source": [
    "A = {\"I\":1,\"V\":5,\"X\":10,\"L\":50,\"C\":100}\n",
    "c = \"VL\"\n",
    "c = list(c)\n",
    "total = 0\n",
    "for i in range(0,len(c)):\n",
    "    if i<(len(c)-1) and A[c[i]]<A[c[i+1]]:\n",
    "        total -=A[c[i]]\n",
    "    else:\n",
    "        total +=A[c[i]]\n",
    "print(total)"
   ]
  },
  {
   "cell_type": "code",
   "execution_count": 3,
   "id": "3de07c00",
   "metadata": {},
   "outputs": [
    {
     "data": {
      "text/plain": [
       "45"
      ]
     },
     "execution_count": 3,
     "metadata": {},
     "output_type": "execute_result"
    }
   ],
   "source": [
    "romanToInt(c)"
   ]
  },
  {
   "cell_type": "code",
   "execution_count": null,
   "id": "b24305e1",
   "metadata": {},
   "outputs": [],
   "source": []
  }
 ],
 "metadata": {
  "kernelspec": {
   "display_name": "Python 3 (ipykernel)",
   "language": "python",
   "name": "python3"
  },
  "language_info": {
   "codemirror_mode": {
    "name": "ipython",
    "version": 3
   },
   "file_extension": ".py",
   "mimetype": "text/x-python",
   "name": "python",
   "nbconvert_exporter": "python",
   "pygments_lexer": "ipython3",
   "version": "3.9.12"
  }
 },
 "nbformat": 4,
 "nbformat_minor": 5
}
