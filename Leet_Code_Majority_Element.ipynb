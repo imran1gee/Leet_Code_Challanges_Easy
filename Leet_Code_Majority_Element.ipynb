{
 "cells": [
  {
   "cell_type": "code",
   "execution_count": null,
   "id": "886c6b6e",
   "metadata": {},
   "outputs": [],
   "source": [
    "def findMaxOccurringElement(arr):\n",
    "    # Create a dictionary to store the count of each element\n",
    "    counts = {}\n",
    "    maxCount = 0\n",
    "    maxElement = None\n",
    "    \n",
    "    # Iterate through the array and update the counts\n",
    "    for element in arr:\n",
    "        if element in counts:\n",
    "            counts[element] += 1\n",
    "        else:\n",
    "            counts[element] = 1\n",
    "        \n",
    "        # Update the max count and element if necessary\n",
    "        if counts[element] > maxCount:\n",
    "            maxCount = counts[element]\n",
    "            maxElement = element\n",
    "            \n",
    "    return maxElement"
   ]
  },
  {
   "cell_type": "code",
   "execution_count": 11,
   "id": "3f35024e",
   "metadata": {},
   "outputs": [
    {
     "name": "stdout",
     "output_type": "stream",
     "text": [
      "0\n"
     ]
    }
   ],
   "source": [
    "arr = [0,1,2,3,0,5,6,0]\n",
    "# Create a dictionary to store the count of each element\n",
    "counts = {}\n",
    "maxCount = 0\n",
    "maxElement = None\n",
    "\n",
    "# Iterate through the array and update the counts\n",
    "for element in arr:\n",
    "    if element in counts:\n",
    "        counts[element] += 1\n",
    "    else:\n",
    "        counts[element] = 1\n",
    "\n",
    "    # Update the max count and element if necessary\n",
    "    if counts[element] > maxCount:\n",
    "        maxCount = counts[element]\n",
    "        maxElement = element\n",
    "\n",
    "print( maxElement)"
   ]
  },
  {
   "cell_type": "code",
   "execution_count": 14,
   "id": "6002c019",
   "metadata": {},
   "outputs": [],
   "source": [
    "A = {'A':'a',\"B\":\"b\"}"
   ]
  },
  {
   "cell_type": "code",
   "execution_count": 16,
   "id": "fd90d6f2",
   "metadata": {},
   "outputs": [
    {
     "name": "stdout",
     "output_type": "stream",
     "text": [
      "A\n"
     ]
    }
   ],
   "source": [
    "cd = 'A'\n",
    "if cd in A:\n",
    "    print(cd)"
   ]
  },
  {
   "cell_type": "code",
   "execution_count": 17,
   "id": "243fc8e0",
   "metadata": {},
   "outputs": [
    {
     "data": {
      "text/plain": [
       "{0: 3, 1: 1, 2: 1, 3: 1, 5: 1, 6: 1}"
      ]
     },
     "execution_count": 17,
     "metadata": {},
     "output_type": "execute_result"
    }
   ],
   "source": [
    "counts"
   ]
  },
  {
   "cell_type": "code",
   "execution_count": null,
   "id": "7c7bdf3b",
   "metadata": {},
   "outputs": [],
   "source": []
  }
 ],
 "metadata": {
  "kernelspec": {
   "display_name": "Python 3 (ipykernel)",
   "language": "python",
   "name": "python3"
  },
  "language_info": {
   "codemirror_mode": {
    "name": "ipython",
    "version": 3
   },
   "file_extension": ".py",
   "mimetype": "text/x-python",
   "name": "python",
   "nbconvert_exporter": "python",
   "pygments_lexer": "ipython3",
   "version": "3.9.12"
  }
 },
 "nbformat": 4,
 "nbformat_minor": 5
}
