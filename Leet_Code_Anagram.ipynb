{
 "cells": [
  {
   "cell_type": "code",
   "execution_count": null,
   "id": "8301ef42",
   "metadata": {},
   "outputs": [],
   "source": [
    "def isAnagram(s, t):\n",
    "    # Check if the length of the strings is the same\n",
    "    if len(s) != len(t):\n",
    "        return False   # If lengths are different, then t cannot be an anagram of s\n",
    "    \n",
    "    # Create a dictionary to count the frequency of characters in s\n",
    "    count = {}\n",
    "    for char in s:\n",
    "        if char in count:\n",
    "            count[char] += 1\n",
    "        else:\n",
    "            count[char] = 1\n",
    "            \n",
    "    # Loop through the characters in t and decrement their count in the dictionary\n",
    "    for char in t:\n",
    "        if char in count:\n",
    "            count[char] -= 1\n",
    "            if count[char] == 0:\n",
    "                del count[char]  # Remove character from dictionary if its count is zero\n",
    "        else:\n",
    "            return False   # If character not found in dictionary, t cannot be an anagram of s\n",
    "    \n",
    "    return len(count) == 0   # If all characters in s are accounted for in t, count should be empty dictionary"
   ]
  },
  {
   "cell_type": "code",
   "execution_count": 5,
   "id": "50334fdc",
   "metadata": {},
   "outputs": [
    {
     "name": "stdout",
     "output_type": "stream",
     "text": [
      "False\n",
      "{'c': 1, 'a': 0, 't': 1}\n",
      "{'c': 1, 't': 0}\n",
      "{'c': 0}\n",
      "False\n",
      "0\n"
     ]
    }
   ],
   "source": [
    "s , t = 'cat' , 'atcd'\n",
    "# Check if the length of the strings is the same\n",
    "if len(s) != len(t):\n",
    "    print('False')   # If lengths are different, then t cannot be an anagram of s\n",
    "\n",
    "# Create a dictionary to count the frequency of characters in s\n",
    "count = {}\n",
    "for char in s:\n",
    "    if char in count:\n",
    "        count[char] += 1\n",
    "    else:\n",
    "        count[char] = 1\n",
    "\n",
    "# Loop through the characters in t and decrement their count in the dictionary\n",
    "for char in t:\n",
    "    if char in count:\n",
    "        count[char] -= 1\n",
    "        print(count)\n",
    "        if count[char] == 0:\n",
    "            del count[char]  # Remove character from dictionary if its count is zero\n",
    "    else:\n",
    "        print('False')    # If character not found in dictionary, t cannot be an anagram of s\n",
    "\n",
    "print(len(count))   # If all characters in s are accounted for in t, count should be empty dictionary"
   ]
  },
  {
   "cell_type": "code",
   "execution_count": 4,
   "id": "1d44177d",
   "metadata": {},
   "outputs": [
    {
     "data": {
      "text/plain": [
       "{}"
      ]
     },
     "execution_count": 4,
     "metadata": {},
     "output_type": "execute_result"
    }
   ],
   "source": [
    "count"
   ]
  },
  {
   "cell_type": "code",
   "execution_count": null,
   "id": "f19c5f3f",
   "metadata": {},
   "outputs": [],
   "source": []
  }
 ],
 "metadata": {
  "kernelspec": {
   "display_name": "Python 3 (ipykernel)",
   "language": "python",
   "name": "python3"
  },
  "language_info": {
   "codemirror_mode": {
    "name": "ipython",
    "version": 3
   },
   "file_extension": ".py",
   "mimetype": "text/x-python",
   "name": "python",
   "nbconvert_exporter": "python",
   "pygments_lexer": "ipython3",
   "version": "3.9.12"
  }
 },
 "nbformat": 4,
 "nbformat_minor": 5
}
