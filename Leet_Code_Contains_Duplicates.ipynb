{
 "cells": [
  {
   "cell_type": "code",
   "execution_count": null,
   "id": "899f1dac",
   "metadata": {},
   "outputs": [],
   "source": [
    "def containsDuplicate(nums):\n",
    "    # Create an empty set to keep track of seen elements\n",
    "    seen = set()\n",
    "    \n",
    "    # Loop through the array and check if each element is in the set\n",
    "    for num in nums:\n",
    "        if num in seen:\n",
    "            return True   # Duplicate found\n",
    "        else:\n",
    "            seen.add(num)  # Add the current element to the set\n",
    "        \n",
    "    return False  # No duplicates found"
   ]
  },
  {
   "cell_type": "code",
   "execution_count": 3,
   "id": "c6abb3bd",
   "metadata": {},
   "outputs": [
    {
     "name": "stdout",
     "output_type": "stream",
     "text": [
      "True\n",
      "False\n"
     ]
    }
   ],
   "source": [
    "nums = [1,2,3,4,1]\n",
    "# Create an empty set to keep track of seen elements\n",
    "seen = set()\n",
    "\n",
    "# Loop through the array and check if each element is in the set\n",
    "for num in nums:\n",
    "    if num in seen:\n",
    "        print('True')    # Duplicate found\n",
    "    else:\n",
    "        seen.add(num)  # Add the current element to the set\n",
    "\n",
    "print('False')  # No duplicates found"
   ]
  },
  {
   "cell_type": "code",
   "execution_count": null,
   "id": "ba893672",
   "metadata": {},
   "outputs": [],
   "source": []
  }
 ],
 "metadata": {
  "kernelspec": {
   "display_name": "Python 3 (ipykernel)",
   "language": "python",
   "name": "python3"
  },
  "language_info": {
   "codemirror_mode": {
    "name": "ipython",
    "version": 3
   },
   "file_extension": ".py",
   "mimetype": "text/x-python",
   "name": "python",
   "nbconvert_exporter": "python",
   "pygments_lexer": "ipython3",
   "version": "3.9.12"
  }
 },
 "nbformat": 4,
 "nbformat_minor": 5
}
