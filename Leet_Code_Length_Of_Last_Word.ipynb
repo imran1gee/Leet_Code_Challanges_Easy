{
 "cells": [
  {
   "cell_type": "code",
   "execution_count": 10,
   "id": "f53a1d08",
   "metadata": {},
   "outputs": [
    {
     "data": {
      "text/plain": [
       "4"
      ]
     },
     "execution_count": 10,
     "metadata": {},
     "output_type": "execute_result"
    }
   ],
   "source": [
    "def Fun(s):\n",
    "# This makes a list of all words in a sentence\n",
    "    words = s.split()\n",
    "    return len(words[-1])\n",
    "Fun(sentence)"
   ]
  },
  {
   "cell_type": "code",
   "execution_count": null,
   "id": "7c0256cd",
   "metadata": {},
   "outputs": [],
   "source": [
    "sentence = \"   fly me   to   the  moon  \"\n",
    "words = sentence.split()\n",
    "len(words[-1])"
   ]
  }
 ],
 "metadata": {
  "kernelspec": {
   "display_name": "Python 3 (ipykernel)",
   "language": "python",
   "name": "python3"
  },
  "language_info": {
   "codemirror_mode": {
    "name": "ipython",
    "version": 3
   },
   "file_extension": ".py",
   "mimetype": "text/x-python",
   "name": "python",
   "nbconvert_exporter": "python",
   "pygments_lexer": "ipython3",
   "version": "3.9.12"
  }
 },
 "nbformat": 4,
 "nbformat_minor": 5
}
