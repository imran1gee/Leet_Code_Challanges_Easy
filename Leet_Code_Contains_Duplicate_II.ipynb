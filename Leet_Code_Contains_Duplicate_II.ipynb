{
 "cells": [
  {
   "cell_type": "code",
   "execution_count": null,
   "id": "7cc517a6",
   "metadata": {},
   "outputs": [],
   "source": [
    "def containsNearbyDuplicate(nums, k):\n",
    "    # Create an empty dictionary to store the last seen index of each element\n",
    "    last_seen = {}\n",
    "    \n",
    "    # Loop through the array and check if each element is in the dictionary\n",
    "    for i in range(len(nums)):\n",
    "        num = nums[i]\n",
    "        if num in last_seen and i - last_seen[num] <= k:\n",
    "            return True   # Duplicate found within distance k\n",
    "        else:\n",
    "            last_seen[num] = i  # Update the last seen index of the current element\n",
    "        \n",
    "    return False  # No duplicates found within distance k"
   ]
  },
  {
   "cell_type": "code",
   "execution_count": 5,
   "id": "9d55ad0a",
   "metadata": {},
   "outputs": [
    {
     "name": "stdout",
     "output_type": "stream",
     "text": [
      "False\n"
     ]
    }
   ],
   "source": [
    "nums ,k = [1,2,3,4] ,4\n",
    "    # Create an empty dictionary to store the last seen index of each element\n",
    "last_seen = {}\n",
    "\n",
    "# Loop through the array and check if each element is in the dictionary\n",
    "for i in range(len(nums)):\n",
    "    num = nums[i]\n",
    "    if num in last_seen and i - last_seen[num] <= k:\n",
    "        print('True')    # Duplicate found within distance k\n",
    "    else:\n",
    "        last_seen[num] = i  # Update the last seen index of the current element\n",
    "\n",
    "print('False')  # No duplicates found within distance k"
   ]
  },
  {
   "cell_type": "code",
   "execution_count": 6,
   "id": "e0f0b6f9",
   "metadata": {},
   "outputs": [
    {
     "data": {
      "text/plain": [
       "{1: 0, 2: 1, 3: 2, 4: 3}"
      ]
     },
     "execution_count": 6,
     "metadata": {},
     "output_type": "execute_result"
    }
   ],
   "source": [
    "last_seen"
   ]
  },
  {
   "cell_type": "code",
   "execution_count": null,
   "id": "60b20e1c",
   "metadata": {},
   "outputs": [],
   "source": []
  }
 ],
 "metadata": {
  "kernelspec": {
   "display_name": "Python 3 (ipykernel)",
   "language": "python",
   "name": "python3"
  },
  "language_info": {
   "codemirror_mode": {
    "name": "ipython",
    "version": 3
   },
   "file_extension": ".py",
   "mimetype": "text/x-python",
   "name": "python",
   "nbconvert_exporter": "python",
   "pygments_lexer": "ipython3",
   "version": "3.9.12"
  }
 },
 "nbformat": 4,
 "nbformat_minor": 5
}
