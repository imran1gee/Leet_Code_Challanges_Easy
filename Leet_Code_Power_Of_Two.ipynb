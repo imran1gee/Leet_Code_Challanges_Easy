{
 "cells": [
  {
   "cell_type": "code",
   "execution_count": null,
   "id": "518f2108",
   "metadata": {},
   "outputs": [],
   "source": [
    "def isPowerOfTwo(n):\n",
    "    if n <= 0:\n",
    "        return False  # Negative or zero integers cannot be a power of two\n",
    "    elif n == 1:\n",
    "        return True   # 1 is a power of two\n",
    "    else:\n",
    "        while n % 2 == 0:\n",
    "            n //= 2  # Divide n by 2 until it is no longer even\n",
    "        return n == 1  # If n is equal to 1, it is a power of two"
   ]
  },
  {
   "cell_type": "code",
   "execution_count": 1,
   "id": "f8d95732",
   "metadata": {},
   "outputs": [
    {
     "name": "stdout",
     "output_type": "stream",
     "text": [
      "1\n"
     ]
    }
   ],
   "source": [
    "n = 8\n",
    "if n <= 0:\n",
    "    print('False')   # Negative or zero integers cannot be a power of two\n",
    "elif n == 1:\n",
    "    print('True')   # 1 is a power of two\n",
    "else:\n",
    "    while n % 2 == 0:\n",
    "        n //= 2  # Divide n by 2 until it is no longer even\n",
    "    print(n)   # If n is equal to 1, it is a power of two"
   ]
  },
  {
   "cell_type": "code",
   "execution_count": null,
   "id": "6377828c",
   "metadata": {},
   "outputs": [],
   "source": []
  }
 ],
 "metadata": {
  "kernelspec": {
   "display_name": "Python 3 (ipykernel)",
   "language": "python",
   "name": "python3"
  },
  "language_info": {
   "codemirror_mode": {
    "name": "ipython",
    "version": 3
   },
   "file_extension": ".py",
   "mimetype": "text/x-python",
   "name": "python",
   "nbconvert_exporter": "python",
   "pygments_lexer": "ipython3",
   "version": "3.9.12"
  }
 },
 "nbformat": 4,
 "nbformat_minor": 5
}
